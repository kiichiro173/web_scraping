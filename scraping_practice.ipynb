{
 "cells": [
  {
   "cell_type": "code",
   "execution_count": 5,
   "metadata": {},
   "outputs": [
    {
     "name": "stdout",
     "output_type": "stream",
     "text": [
      "富岳 オンリーワン目指し快挙\n",
      "スパコン富岳 計算速度世界一に\n",
      "スパコン快挙 蓮舫氏「敬意」\n",
      "iOS 14発表 ホーム画面刷新\n",
      "接触アプリ不具合 修正に1週間\n",
      "接触アプリ 無償開発への思い\n",
      "GPSは必要? 接触確認アプリQA\n",
      "ネット広告 メディア28社連携\n"
     ]
    }
   ],
   "source": [
    "import requests\n",
    "from bs4 import  BeautifulSoup\n",
    "\n",
    "load_url = \"https://news.yahoo.co.jp/categories/it\"\n",
    "html = requests.get(load_url)\n",
    "soup = BeautifulSoup(html.content , \"html.parser\" )\n",
    "\n",
    "topic = soup.find(class_ = \"topicsList_main\")\n",
    "for i in topic:\n",
    "    print(i.text)"
   ]
  },
  {
   "cell_type": "code",
   "execution_count": 8,
   "metadata": {},
   "outputs": [
    {
     "name": "stdout",
     "output_type": "stream",
     "text": [
      "/static/assets/img/img1.JPG\n",
      "/static/assets/img/img2.JPG\n",
      "/static/assets/img/img3.JPG\n",
      "/static/assets/img/img4.JPG\n",
      "/static/assets/img/img5.JPG\n",
      "/static/assets/img/img6.JPG\n",
      "/static/assets/img/img7.JPG\n",
      "/static/assets/img/img8.JPG\n",
      "/static/assets/img/img9.JPG\n",
      "/static/assets/img/img10.JPG\n",
      "/static/assets/img/img11.JPG\n",
      "/static/assets/img/img12.JPG\n",
      "/static/assets/img/img13.JPG\n",
      "/static/assets/img/img14.JPG\n",
      "/static/assets/img/img15.JPG\n",
      "/static/assets/img/img16.JPG\n",
      "/static/assets/img/img17.JPG\n",
      "/static/assets/img/img18.JPG\n",
      "/static/assets/img/img19.JPG\n",
      "/static/assets/img/img20.JPG\n",
      "/static/assets/img/img21.JPG\n",
      "/static/assets/img/img22.JPG\n",
      "/static/assets/img/img23.JPG\n",
      "/static/assets/img/img24.JPG\n"
     ]
    }
   ],
   "source": [
    "load_url = \"https://scraping-for-beginner.herokuapp.com/image\"\n",
    "html = requests.get(load_url)\n",
    "soup = BeautifulSoup(html.content,\"html.parser\")\n",
    "\n",
    "for element in soup.find_all(\"img\"):\n",
    "    url = element.get(\"src\")\n",
    "    print(url)"
   ]
  },
  {
   "cell_type": "code",
   "execution_count": 9,
   "metadata": {},
   "outputs": [],
   "source": [
    "import urllib"
   ]
  },
  {
   "cell_type": "code",
   "execution_count": 11,
   "metadata": {},
   "outputs": [
    {
     "name": "stdout",
     "output_type": "stream",
     "text": [
      "<a href=\"https://www.ymori.com/books/python2nen/test1.html\">リンク1</a>\n",
      "リンク1\n",
      "https://www.ymori.com/books/python2nen/test1.html\n",
      "<a href=\"./test3.html\">リンク2</a>\n",
      "リンク2\n",
      "https://www.ymori.com/books/python2nen/test3.html\n"
     ]
    }
   ],
   "source": [
    "load_url = \"https://www.ymori.com/books/python2nen/test2.html\"\n",
    "html = requests.get(load_url)\n",
    "soup = BeautifulSoup(html.content , \"html.parser\")\n",
    "\n",
    "for element in soup.find_all(\"a\"):\n",
    "    print(element)\n",
    "    print(element.text)\n",
    "    url = element.get(\"href\")\n",
    "    link_url = urllib.parse.urljoin(load_url,url)\n",
    "    print(link_url)"
   ]
  },
  {
   "cell_type": "code",
   "execution_count": 12,
   "metadata": {},
   "outputs": [],
   "source": [
    "file_name = \"link.txt\"\n",
    "with open(file_name,\"w\") as f:\n",
    "    for element in soup.find_all(\"a\"):\n",
    "        url = element.get(\"href\")\n",
    "        link_url = urllib.parse.urljoin(load_url,url)\n",
    "        f.write(element.text + \"\\n\")\n",
    "        f.write(link_url + \"\\n\")\n",
    "        f.write(\"\\n\")"
   ]
  },
  {
   "cell_type": "code",
   "execution_count": null,
   "metadata": {},
   "outputs": [],
   "source": []
  }
 ],
 "metadata": {
  "kernelspec": {
   "display_name": "Python 3",
   "language": "python",
   "name": "python3"
  },
  "language_info": {
   "codemirror_mode": {
    "name": "ipython",
    "version": 3
   },
   "file_extension": ".py",
   "mimetype": "text/x-python",
   "name": "python",
   "nbconvert_exporter": "python",
   "pygments_lexer": "ipython3",
   "version": "3.7.3"
  }
 },
 "nbformat": 4,
 "nbformat_minor": 2
}
