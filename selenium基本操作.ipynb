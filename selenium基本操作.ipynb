{
 "cells": [
  {
   "cell_type": "code",
   "execution_count": 1,
   "metadata": {},
   "outputs": [],
   "source": [
    "from selenium import webdriver\n",
    "from time import sleep\n",
    "from selenium.webdriver.chrome.options import Options\n",
    "import csv\n",
    "import datetime"
   ]
  },
  {
   "cell_type": "code",
   "execution_count": 2,
   "metadata": {},
   "outputs": [],
   "source": [
    "#これでGoogleを開く\n",
    "driver = webdriver.Chrome(\"C:\\\\Users\\\\solud\\\\OneDrive\\\\デスクトップ\\\\chromedriver\")\n",
    "driver.get(\"https://www.google.com/\")"
   ]
  },
  {
   "cell_type": "code",
   "execution_count": 3,
   "metadata": {},
   "outputs": [],
   "source": [
    "#Googleの検索欄を指定している。\n",
    "search_bar = driver.find_element_by_name('q')\n",
    "#入力欄にテキストを送る。\n",
    "#send_keysの中に検索したい文字を入力する。\n",
    "search_bar.send_keys(\"python\")"
   ]
  },
  {
   "cell_type": "code",
   "execution_count": 4,
   "metadata": {},
   "outputs": [],
   "source": [
    "#これで検索を行う。\n",
    "search_bar.submit()"
   ]
  },
  {
   "cell_type": "code",
   "execution_count": 5,
   "metadata": {},
   "outputs": [],
   "source": [
    "csv_date  = datetime.datetime.today().strftime('%Y%m%d') "
   ]
  },
  {
   "cell_type": "code",
   "execution_count": 6,
   "metadata": {},
   "outputs": [],
   "source": [
    "csv_file_name = 'google_python_' + csv_date + '.csv'"
   ]
  },
  {
   "cell_type": "code",
   "execution_count": 8,
   "metadata": {},
   "outputs": [],
   "source": [
    "f = open(csv_file_name, 'w' , encoding='cp932',errors='ignore')"
   ]
  },
  {
   "cell_type": "code",
   "execution_count": 9,
   "metadata": {},
   "outputs": [
    {
     "data": {
      "text/plain": [
       "14"
      ]
     },
     "execution_count": 9,
     "metadata": {},
     "output_type": "execute_result"
    }
   ],
   "source": [
    "writer =csv.writer(f,lineterminator='\\n')\n",
    "csv_header = [\"検索順位\"  , \"タイトル\" , \"URL\"]\n",
    "writer.writerow(csv_header)"
   ]
  },
  {
   "cell_type": "code",
   "execution_count": 10,
   "metadata": {},
   "outputs": [],
   "source": [
    "#これで何回もループするようになっている。\n",
    "i = 0\n",
    "ranking = 1\n",
    "while True:\n",
    "    i = i + 1\n",
    "    sleep(1)\n",
    "    #Xpathによる検索\n",
    "    #()の中にある要素に当てはまる要素をすべて取得する。\n",
    "    #a要素の下にあるh3要素を取得するようにしている。\n",
    "    for elem_h3 in driver.find_elements_by_xpath('//a/h3'):\n",
    "        #この中にデータを格納していく。\n",
    "        csvlist = []\n",
    "        csvlist.append(str(ranking))\n",
    "        csvlist.append(elem_h3.text)\n",
    "        #..これはh3の親要素を取得している。\n",
    "        elem_a = elem_h3.find_element_by_xpath(\"..\")\n",
    "        #属性名から属性を取得している。\n",
    "        csvlist.append(elem_a.get_attribute('href'))\n",
    "        writer.writerow(csvlist)\n",
    "        ranking = ranking + 1\n",
    "\n",
    "\n",
    "    #次のページの情報を取得する\n",
    "    next_link = driver.find_element_by_id('pnnext')\n",
    "    driver.get(next_link.get_attribute('href'))\n",
    "    \n",
    "    if i > 4:\n",
    "        break\n",
    "f.close()"
   ]
  },
  {
   "cell_type": "code",
   "execution_count": null,
   "metadata": {},
   "outputs": [],
   "source": []
  },
  {
   "cell_type": "code",
   "execution_count": null,
   "metadata": {},
   "outputs": [],
   "source": []
  },
  {
   "cell_type": "code",
   "execution_count": null,
   "metadata": {},
   "outputs": [],
   "source": []
  },
  {
   "cell_type": "code",
   "execution_count": null,
   "metadata": {},
   "outputs": [],
   "source": []
  },
  {
   "cell_type": "code",
   "execution_count": null,
   "metadata": {},
   "outputs": [],
   "source": [
    "#Xpathによる検索\n",
    "#()の中にある要素に当てはまる要素をすべて取得する。\n",
    "#a要素の下にあるh3要素を取得するようにしている。\n",
    "for elem_h3 in driver.find_elements_by_xpath('//a/h3'):\n",
    "    print(elem_h3.text)\n",
    "    #..これはh3の親要素を取得している。\n",
    "    elem_a = elem_h3.find_element_by_xpath(\"..\")\n",
    "    #属性名から属性を取得している。\n",
    "    print(elem_a.get_attribute('href'))"
   ]
  },
  {
   "cell_type": "code",
   "execution_count": null,
   "metadata": {},
   "outputs": [],
   "source": []
  },
  {
   "cell_type": "code",
   "execution_count": null,
   "metadata": {},
   "outputs": [],
   "source": [
    "#ヘッドレスモード\n",
    "from selenium.webdriver.chrome.options import Options\n",
    "options = Options()\n",
    "options.add_argument('--headless')\n",
    "driver = webdriver.Chrome(\"C:\\\\Users\\\\solud\\\\OneDrive\\\\デスクトップ\\\\chromedriver\" , options=options)"
   ]
  },
  {
   "cell_type": "code",
   "execution_count": null,
   "metadata": {},
   "outputs": [],
   "source": [
    "#headlessモードなのでwindowが表示されない。\n",
    "driver.get(\"https://www.google.com/\")"
   ]
  },
  {
   "cell_type": "code",
   "execution_count": null,
   "metadata": {},
   "outputs": [],
   "source": [
    "#Googleの検索欄を指定している。\n",
    "search_bar = driver.find_element_by_name('q')\n",
    "#入力欄にテキストを送る。\n",
    "#send_keysの中に検索したい文字を入力する。\n",
    "search_bar.send_keys(\"python\")\n",
    "#これで検索を行う。\n",
    "search_bar.submit()\n"
   ]
  },
  {
   "cell_type": "code",
   "execution_count": null,
   "metadata": {},
   "outputs": [],
   "source": [
    "#これで何回もループするようになっている。\n",
    "i = 0\n",
    "\n",
    "while True:\n",
    "    i = i + 1\n",
    "    sleep(1)\n",
    "    #Xpathによる検索\n",
    "    #()の中にある要素に当てはまる要素をすべて取得する。\n",
    "    #a要素の下にあるh3要素を取得するようにしている。\n",
    "    for elem_h3 in driver.find_elements_by_xpath('//a/h3'):\n",
    "        print(elem_h3.text)\n",
    "        #..これはh3の親要素を取得している。\n",
    "        elem_a = elem_h3.find_element_by_xpath(\"..\")\n",
    "        #属性名から属性を取得している。\n",
    "        print(elem_a.get_attribute('href'))\n",
    "\n",
    "\n",
    "\n",
    "    #次のページの情報を取得する\n",
    "-    next_link = driver.find_element_by_id('pnnext')\n",
    "    driver.get(next_link.get_attribute('href'))\n",
    "    \n",
    "    if i > 4:\n",
    "        break"
   ]
  },
  {
   "cell_type": "code",
   "execution_count": null,
   "metadata": {},
   "outputs": [],
   "source": []
  },
  {
   "cell_type": "markdown",
   "metadata": {},
   "source": [
    "# インスタグラムへのログイン画面を表示しログイン画面でパスワードとアカウントを入力\n"
   ]
  },
  {
   "cell_type": "code",
   "execution_count": 36,
   "metadata": {},
   "outputs": [],
   "source": [
    "from selenium import webdriver\n",
    "from time import sleep"
   ]
  },
  {
   "cell_type": "code",
   "execution_count": 37,
   "metadata": {},
   "outputs": [],
   "source": [
    "user_name = 'ユーザーネーム'\n",
    "passward = 'パスワード'\n"
   ]
  },
  {
   "cell_type": "code",
   "execution_count": 53,
   "metadata": {},
   "outputs": [],
   "source": [
    "driver = webdriver.Chrome(\"C:\\\\Users\\\\solud\\\\OneDrive\\\\デスクトップ\\\\chromedriver\")\n",
    "url = \"https://www.instagram.com/\"\n",
    "driver.get(url)\n",
    "sleep(3)"
   ]
  },
  {
   "cell_type": "markdown",
   "metadata": {},
   "source": []
  },
  {
   "cell_type": "code",
   "execution_count": 54,
   "metadata": {},
   "outputs": [],
   "source": [
    "error_flag = False"
   ]
  },
  {
   "cell_type": "code",
   "execution_count": 55,
   "metadata": {},
   "outputs": [],
   "source": [
    "#ユーザーネームとパスワードの入力\n",
    "#検証を行って入力する箇所を特定する。\n",
    "\n",
    "try:\n",
    "    username_input = driver.find_element_by_xpath(\"//input[@aria-label='電話番号、ユーザーネーム、メールアドレス']\")\n",
    "    #入力値を入れるときは.send_keys()を使用する。\n",
    "    #usernameを入力\n",
    "    username_input.send_keys(user_name)\n",
    "    sleep(1)\n",
    "    \n",
    "    #passwardを入力\n",
    "    passward_input = driver.find_element_by_xpath(\"//input[@aria-label='パスワード']\")\n",
    "    passward_input.send_keys(passward)\n",
    "    sleep(1)\n",
    "    \n",
    "    #ログインボタンを押す.submit()を使用する。\n",
    "    login_button = driver.find_element_by_xpath(\"//button[@type='submit']\")\n",
    "    login_button.submit()\n",
    "    sleep(1)\n",
    "    \n",
    "    \n",
    "    \n",
    "    \n",
    "except Exception:\n",
    "    error_flag = True\n",
    "    print(\"ユーザー名・パスワード入力時にエラーが発生しました。\")"
   ]
  },
  {
   "cell_type": "code",
   "execution_count": 56,
   "metadata": {},
   "outputs": [],
   "source": [
    "#後でのボタンを押す\n",
    "\n",
    "if error_flag is False:\n",
    "    try:\n",
    "        sleep(1)\n",
    "        notnow_button = driver.find_element_by_xpath(\"//button[text()='後で']\")\n",
    "        notnow_button.click()\n",
    "        sleep(1)\n",
    "        \n",
    "        notnow_button2 = driver.find_element_by_xpath(\"//button[text()='後で']\")\n",
    "        notnow_button2.click()\n",
    "        \n",
    "    except Exception:\n",
    "        pass\n",
    "        "
   ]
  },
  {
   "cell_type": "code",
   "execution_count": 57,
   "metadata": {},
   "outputs": [],
   "source": [
    "target_username = 'paulnicklen'\n",
    "if error_flag is False:\n",
    "    try:\n",
    "        target_profile_url = url + target_username \n",
    "        driver.get(target_profile_url)\n",
    "        sleep(3)\n",
    "    except Exception:\n",
    "        print(\"検索時にエラーが発生しました。\")\n",
    "        error_flg = True\n",
    "        "
   ]
  },
  {
   "cell_type": "code",
   "execution_count": 58,
   "metadata": {},
   "outputs": [
    {
     "name": "stdout",
     "output_type": "stream",
     "text": [
      "投稿件数:2436\n"
     ]
    }
   ],
   "source": [
    "if error_flag is False:\n",
    "    try:\n",
    "        post_count = driver.find_element_by_xpath(\"//span[text()='投稿']\").text\n",
    "        post_count = post_count.replace('投稿',\"\").replace('件',\"\")\n",
    "        print(\"投稿件数:\" + post_count)\n",
    "        post_count = int(post_count)\n",
    "        if post_count > 12:\n",
    "            scroll_count = int(post_count/12) + 1\n",
    "            try:\n",
    "                #スクロールする回数はscroll_countに格納されている。\n",
    "                for i in range(scroll_count):\n",
    "                    #ここで画面をスクロールしている。\n",
    "                    driver.execute_script(\"window.scrollTo(0,document.body.scrollHeight);\")\n",
    "                    sleep(2)\n",
    "                    if i > 5:\n",
    "                        break\n",
    "                    \n",
    "\n",
    "            except Exception:\n",
    "                print(\"画面スクロール中にエラーが発生しました。\")\n",
    "                error_flag = True\n",
    "            \n",
    "        \n",
    "    except Exception:\n",
    "        print(\"投稿数が取得できませんでした。\")\n",
    "        error_flg = True"
   ]
  },
  {
   "cell_type": "code",
   "execution_count": null,
   "metadata": {},
   "outputs": [],
   "source": []
  },
  {
   "cell_type": "code",
   "execution_count": null,
   "metadata": {},
   "outputs": [],
   "source": []
  }
 ],
 "metadata": {
  "kernelspec": {
   "display_name": "Python 3",
   "language": "python",
   "name": "python3"
  },
  "language_info": {
   "codemirror_mode": {
    "name": "ipython",
    "version": 3
   },
   "file_extension": ".py",
   "mimetype": "text/x-python",
   "name": "python",
   "nbconvert_exporter": "python",
   "pygments_lexer": "ipython3",
   "version": "3.7.3"
  }
 },
 "nbformat": 4,
 "nbformat_minor": 2
}