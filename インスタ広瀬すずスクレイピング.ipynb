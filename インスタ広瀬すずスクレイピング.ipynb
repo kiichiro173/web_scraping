{
 "cells": [
  {
   "cell_type": "code",
   "execution_count": 1,
   "metadata": {},
   "outputs": [],
   "source": [
    "from selenium import webdriver\n",
    "from time import sleep\n",
    "import datetime\n",
    "\n",
    "from bs4 import BeautifulSoup\n",
    "import requests\n",
    "import base64\n",
    "\n",
    "import os\n",
    "import re\n",
    "import shutil"
   ]
  },
  {
   "cell_type": "code",
   "execution_count": 26,
   "metadata": {},
   "outputs": [],
   "source": [
    "#これでGoogleを開く\n",
    "driver = webdriver.Chrome(\"C:\\\\Users\\\\solud\\\\OneDrive\\\\デスクトップ\\\\chromedriver\")\n",
    "url = \"https://www.instagram.com/\"\n",
    "driver.get(url)\n",
    "sleep(3)"
   ]
  },
  {
   "cell_type": "code",
   "execution_count": 27,
   "metadata": {},
   "outputs": [],
   "source": [
    "user_name = \"kittyomo01@gmail.com\"\n",
    "passward = '8614029kittyomo'"
   ]
  },
  {
   "cell_type": "code",
   "execution_count": 28,
   "metadata": {},
   "outputs": [],
   "source": [
    "#user_nameをぶち込む\n",
    "search_bar = driver.find_element_by_xpath(\"//input[@aria-label='電話番号、ユーザーネーム、メールアドレス']\")\n",
    "search_bar.send_keys(user_name)"
   ]
  },
  {
   "cell_type": "code",
   "execution_count": 29,
   "metadata": {},
   "outputs": [],
   "source": [
    "#passwardをぶち込む\n",
    "pass_bar = driver.find_element_by_xpath(\"//input[@aria-label='パスワード']\")\n",
    "pass_bar.send_keys(passward)"
   ]
  },
  {
   "cell_type": "code",
   "execution_count": 30,
   "metadata": {},
   "outputs": [],
   "source": [
    "#ログインを行う。\n",
    "login = driver.find_element_by_xpath(\"//button[@type='submit']\")\n",
    "login.click()\n",
    "sleep(2)"
   ]
  },
  {
   "cell_type": "code",
   "execution_count": 31,
   "metadata": {},
   "outputs": [],
   "source": [
    "#なんか出てくるので後でと押す。\n",
    "login = driver.find_element_by_xpath(\"//button[text()='後で']\")\n",
    "login.click()\n",
    "sleep(2)"
   ]
  },
  {
   "cell_type": "code",
   "execution_count": 32,
   "metadata": {},
   "outputs": [],
   "source": [
    "#なんか出てくるので後でと押す。\n",
    "login = driver.find_element_by_xpath(\"//button[text()='後で']\")\n",
    "login.click()\n",
    "sleep(2)"
   ]
  },
  {
   "cell_type": "code",
   "execution_count": 33,
   "metadata": {},
   "outputs": [],
   "source": [
    "#アカウントのサイトに移動していく\n",
    "url = 'https://www.instagram.com/suzuhirose.fan/?hl=ja'    \n",
    "driver.get(url)\n",
    "sleep(3)"
   ]
  },
  {
   "cell_type": "code",
   "execution_count": 34,
   "metadata": {},
   "outputs": [
    {
     "name": "stdout",
     "output_type": "stream",
     "text": [
      "投稿件数:202\n"
     ]
    }
   ],
   "source": [
    "#投稿件数をしている。\n",
    "post_times = driver.find_element_by_xpath(\"//span[text()='投稿']\").text\n",
    "times = re.search('[0-9]+' , post_times).group()#.group()でre.Match objectからマッチしたものだけ抽出している。\n",
    "print(\"投稿件数:{}\".format(times))"
   ]
  },
  {
   "cell_type": "code",
   "execution_count": 35,
   "metadata": {},
   "outputs": [
    {
     "name": "stdout",
     "output_type": "stream",
     "text": [
      "フォロワー数:3364\n"
     ]
    }
   ],
   "source": [
    "#フォロワー数を取得する。\n",
    "followers_get = driver.find_element_by_xpath(\"//a[text()='フォロワー']\").text\n",
    "followers = re.search('[0-9]+' , followers_get).group()\n",
    "print(\"フォロワー数:{}\".format(followers))"
   ]
  },
  {
   "cell_type": "code",
   "execution_count": 36,
   "metadata": {},
   "outputs": [
    {
     "name": "stdout",
     "output_type": "stream",
     "text": [
      "フォロー中:177\n"
     ]
    }
   ],
   "source": [
    "#フォロー数を取得する。\n",
    "followers_get = driver.find_element_by_xpath(\"//a[text()='フォロー中']\").text\n",
    "followers = re.search('[0-9]+' , followers_get).group()\n",
    "print(\"フォロー中:{}\".format(followers))"
   ]
  },
  {
   "cell_type": "code",
   "execution_count": 37,
   "metadata": {},
   "outputs": [],
   "source": [
    "#post_count が12枚以上であればスクロールを行う。\n",
    "\n",
    "post_count = int(times)\n",
    "\n",
    "all_images = []\n",
    "\n",
    "if post_count > 12:\n",
    "    \n",
    "    #スクロール回数を計算する。\n",
    "    scroll_count = int(post_count/12) + 1\n",
    "    \n",
    "    for i in range(scroll_count):\n",
    "                #画面のスクロールを行っている。\n",
    "                soup = BeautifulSoup(driver.page_source , \"html.parser\")#ここでBeautifulSoupに読み込んでいる。\n",
    "                #imgタグのついているものを取得している。\n",
    "                for image in soup.find_all('img'):\n",
    "                    try:\n",
    "                        \n",
    "                        image_url  = image[\"src\"]\n",
    "                        all_images.append(image_url)\n",
    "                        \n",
    "                    except :\n",
    "                        \n",
    "                        print(image)\n",
    "                        print(\"$$$$$$$$$$$$$$$$$$$$$$$$$$$$$$$$$$$$$$$$$$$$$$$$$$$$$$$$$\")\n",
    "                driver.execute_script('window.scrollTo(0,document.body.scrollHeight);')\n",
    "                sleep(3)\n",
    "                \n",
    "                \n",
    "                \n",
    "                \n",
    "                "
   ]
  },
  {
   "cell_type": "code",
   "execution_count": 38,
   "metadata": {},
   "outputs": [],
   "source": [
    "all_images = list(dict.fromkeys(all_images))"
   ]
  },
  {
   "cell_type": "code",
   "execution_count": 48,
   "metadata": {},
   "outputs": [
    {
     "data": {
      "text/plain": [
       "219"
      ]
     },
     "execution_count": 48,
     "metadata": {},
     "output_type": "execute_result"
    }
   ],
   "source": [
    "len(all_images)"
   ]
  },
  {
   "cell_type": "code",
   "execution_count": 53,
   "metadata": {},
   "outputs": [],
   "source": [
    "#すずちゃん用のダウンロードファイルを作成\n",
    "try :\n",
    "    os.makedirs(\"suzu2_img_files\")#★★★\n",
    "except :\n",
    "    print(\"すでにファイルは存在しています。\")\n",
    "\n",
    "#ファイルのパス\n",
    "path = r\"C:\\Users\\solud\\練習\\suzu2_img_files\"#★★★\n",
    "\n"
   ]
  },
  {
   "cell_type": "code",
   "execution_count": 54,
   "metadata": {},
   "outputs": [
    {
     "name": "stdout",
     "output_type": "stream",
     "text": [
      "終了！！\n"
     ]
    }
   ],
   "source": [
    "#ダウウンロードしていく！！\n",
    "for index , image_url in enumerate(all_images):\n",
    "    filename = \"suzu_\" + str(index) + \".jpg\"#★★★\n",
    "    file_path = os.path.join(path , filename)\n",
    "    \n",
    "    if re.match(\"https?://\" ,image_url) is None:\n",
    "        continue\n",
    "        \n",
    "    \n",
    "    response = requests.get(image_url , stream = True)\n",
    "    \n",
    "    #ファイルに保存する、\n",
    "    with open(file_path , 'wb') as file:\n",
    "        shutil.copyfileobj(response.raw , file)\n",
    "    \n",
    "    \n",
    "print(\"終了！！\")"
   ]
  },
  {
   "cell_type": "code",
   "execution_count": 55,
   "metadata": {},
   "outputs": [
    {
     "name": "stdout",
     "output_type": "stream",
     "text": [
      "219\n"
     ]
    }
   ],
   "source": [
    "print(len(all_images))"
   ]
  },
  {
   "cell_type": "code",
   "execution_count": null,
   "metadata": {},
   "outputs": [],
   "source": []
  },
  {
   "cell_type": "code",
   "execution_count": null,
   "metadata": {},
   "outputs": [],
   "source": []
  }
 ],
 "metadata": {
  "kernelspec": {
   "display_name": "Python 3",
   "language": "python",
   "name": "python3"
  },
  "language_info": {
   "codemirror_mode": {
    "name": "ipython",
    "version": 3
   },
   "file_extension": ".py",
   "mimetype": "text/x-python",
   "name": "python",
   "nbconvert_exporter": "python",
   "pygments_lexer": "ipython3",
   "version": "3.7.3"
  }
 },
 "nbformat": 4,
 "nbformat_minor": 2
}
