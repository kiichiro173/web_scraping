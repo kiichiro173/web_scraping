{
 "cells": [
  {
   "cell_type": "code",
   "execution_count": 76,
   "metadata": {},
   "outputs": [],
   "source": [
    "from selenium import webdriver\n",
    "from time import sleep\n",
    "import datetime\n",
    "\n",
    "from bs4 import BeautifulSoup\n",
    "import requests\n",
    "import base64\n",
    "\n",
    "import os\n",
    "import re\n",
    "import shutil\n",
    "\n"
   ]
  },
  {
   "cell_type": "code",
   "execution_count": 114,
   "metadata": {},
   "outputs": [],
   "source": [
    "#これでGoogleを開く\n",
    "driver = webdriver.Chrome(\"C:\\\\Users\\\\solud\\\\OneDrive\\\\デスクトップ\\\\chromedriver\")\n",
    "driver.get(\"https://www.google.com/\")\n",
    "sleep(2)"
   ]
  },
  {
   "cell_type": "code",
   "execution_count": 115,
   "metadata": {},
   "outputs": [],
   "source": [
    "#Googleの検索欄を指定している。\n",
    "#検証を行う場合はseleniumで表示されたChromeで検証を行いながら行っていく必要がある\n",
    "search_bar = driver.find_element_by_name(\"q\")"
   ]
  },
  {
   "cell_type": "code",
   "execution_count": 116,
   "metadata": {},
   "outputs": [],
   "source": [
    "#検索バーにキーワードを入れる\n",
    "search_bar.send_keys(\"橋本環奈\")#★★★"
   ]
  },
  {
   "cell_type": "code",
   "execution_count": 117,
   "metadata": {},
   "outputs": [],
   "source": [
    "#これで検索を行う。\n",
    "search_bar.submit()\n",
    "sleep(1)"
   ]
  },
  {
   "cell_type": "code",
   "execution_count": 118,
   "metadata": {},
   "outputs": [],
   "source": [
    "#画像画面に移動\n",
    "img_btn = driver.find_element_by_xpath('//a[@class=\"q qs\"]')\n",
    "img_btn.click()"
   ]
  },
  {
   "cell_type": "code",
   "execution_count": 119,
   "metadata": {},
   "outputs": [],
   "source": [
    "#画面のスクロールを行う。\n",
    "try:\n",
    "    #この中にはimageが重複している。\n",
    "    all_images = []\n",
    "    #スクロールする回数は10回\n",
    "    for i in range(10):\n",
    "        #ここで画面をスクロールしている。\n",
    "        driver.execute_script(\"window.scrollTo(0,document.body.scrollHeight);\")\n",
    "        #ここでBeautifulSoupに読み込んでいる。\n",
    "        soup = BeautifulSoup(driver.page_source , \"html.parser\")\n",
    "        \n",
    "        #all_imagesに画像URLをappendする\n",
    "        for image in soup.find_all(\"img\"):\n",
    "            try:\n",
    "                url = image.get(\"data-src\")\n",
    "\n",
    "                if url is None:\n",
    "                    url = image.get(\"src\")\n",
    "\n",
    "                if url is not None:\n",
    "                    all_images.append(url)\n",
    "            except:\n",
    "                print(\"なんかのエラーが今起きてしまいました！！！\")\n",
    "                print()\n",
    "        \n",
    "        #今回は5回のスクロールで終了\n",
    "        if i > 5:\n",
    "            break\n",
    "        sleep(2)           \n",
    "\n",
    "except Exception:\n",
    "    print(\"画面スクロール中にエラーが発生しました。\")\n",
    "    error_flag = True"
   ]
  },
  {
   "cell_type": "code",
   "execution_count": 120,
   "metadata": {},
   "outputs": [],
   "source": [
    "#すべてのimgリンクのリスト\n",
    "#リストの中の重複した分を取り除いていく。\n",
    "all_images = list(dict.fromkeys(all_images))"
   ]
  },
  {
   "cell_type": "code",
   "execution_count": 121,
   "metadata": {},
   "outputs": [
    {
     "data": {
      "text/plain": [
       "440"
      ]
     },
     "execution_count": 121,
     "metadata": {},
     "output_type": "execute_result"
    }
   ],
   "source": [
    "#image_画像が何枚あるのかを確認。\n",
    "len(all_images)"
   ]
  },
  {
   "cell_type": "code",
   "execution_count": 122,
   "metadata": {},
   "outputs": [],
   "source": [
    "#すずちゃん用のダウンロードファイルを作成\n",
    "os.makedirs(\"kanna_img_files\")#★★★"
   ]
  },
  {
   "cell_type": "code",
   "execution_count": null,
   "metadata": {},
   "outputs": [],
   "source": []
  },
  {
   "cell_type": "code",
   "execution_count": null,
   "metadata": {},
   "outputs": [],
   "source": []
  },
  {
   "cell_type": "code",
   "execution_count": 123,
   "metadata": {},
   "outputs": [],
   "source": [
    "#base64のものを保存していく関数\n",
    "#urlには\"data:image/jpeg;base64,\"を取り除いたものをぶち込むようにする。\n",
    "def base64_download(url , file_path):\n",
    "    img = base64.b64decode(url.encode())\n",
    "    with open(file_path , \"wb\") as f:\n",
    "        f.write(img)\n",
    "    \n",
    "\n",
    "\n",
    "#httpのurlで渡された画像を保存していく。\n",
    "def img_url_download(url , file_path):\n",
    "    response = requests.get(url , stream = True)\n",
    "    \n",
    "    #ファイルに保存する、\n",
    "    with open(file_path , 'wb') as file:\n",
    "        shutil.copyfileobj(response.raw , file)"
   ]
  },
  {
   "cell_type": "code",
   "execution_count": 124,
   "metadata": {},
   "outputs": [],
   "source": [
    "#画像データをファイルにぶち込んでいく！！\n",
    "\n",
    "#ファイルのパス\n",
    "path = r\"C:\\Users\\solud\\練習\\kanna_img_files\"#★★★\n",
    "\n",
    "#base64のやつは最初に\"data:image/jpeg;base64,\"があるので取り除くようにする。\n",
    "base64_string = \"data:image/jpeg;base64,\"\n",
    "\n",
    "for index , image_url in enumerate(all_images):\n",
    "    filename = \"kanna_\" + str(index) + \".jpg\"#★★★\n",
    "    file_path = os.path.join(path , filename)\n",
    "    \n",
    "    if len(re.findall(base64_string , image_url)) > 0:\n",
    "        url = url.replace(base64_string , \"\")#接頭辞をurlからなくしている。\n",
    "        base64_download(url , file_path)\n",
    "    \n",
    "    else:\n",
    "        img_url_download(image_url , file_path)\n",
    "        \n",
    "    \n",
    "    \n",
    "print(\"終了！！\")"
   ]
  },
  {
   "cell_type": "code",
   "execution_count": null,
   "metadata": {},
   "outputs": [],
   "source": []
  },
  {
   "cell_type": "code",
   "execution_count": null,
   "metadata": {},
   "outputs": [],
   "source": []
  },
  {
   "cell_type": "code",
   "execution_count": null,
   "metadata": {},
   "outputs": [],
   "source": []
  },
  {
   "cell_type": "code",
   "execution_count": null,
   "metadata": {},
   "outputs": [],
   "source": []
  },
  {
   "cell_type": "code",
   "execution_count": null,
   "metadata": {},
   "outputs": [],
   "source": []
  },
  {
   "cell_type": "code",
   "execution_count": null,
   "metadata": {},
   "outputs": [],
   "source": []
  }
 ],
 "metadata": {
  "kernelspec": {
   "display_name": "Python 3",
   "language": "python",
   "name": "python3"
  },
  "language_info": {
   "codemirror_mode": {
    "name": "ipython",
    "version": 3
   },
   "file_extension": ".py",
   "mimetype": "text/x-python",
   "name": "python",
   "nbconvert_exporter": "python",
   "pygments_lexer": "ipython3",
   "version": "3.7.3"
  }
 },
 "nbformat": 4,
 "nbformat_minor": 2
}
